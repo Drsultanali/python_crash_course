{
 "cells": [
  {
   "cell_type": "markdown",
   "metadata": {},
   "source": [
    "This is First class session of pythoncrash course"
   ]
  },
  {
   "cell_type": "code",
   "execution_count": 3,
   "metadata": {},
   "outputs": [
    {
     "name": "stdout",
     "output_type": "stream",
     "text": [
      "Salam Pakistan\n"
     ]
    }
   ],
   "source": [
    "print(\"Salam Pakistan\")"
   ]
  },
  {
   "cell_type": "markdown",
   "metadata": {},
   "source": [
    "#String"
   ]
  },
  {
   "cell_type": "code",
   "execution_count": 8,
   "metadata": {},
   "outputs": [
    {
     "name": "stdout",
     "output_type": "stream",
     "text": [
      "Sultan Ali\n",
      "<class 'str'>\n",
      "2510743200688\n",
      "<generator object <genexpr> at 0x0000024893F10E10>\n"
     ]
    }
   ],
   "source": [
    "name = \"Sultan Ali\"\n",
    "print(name)\n",
    "print(type(name)) #type\n",
    "print(id(name)) #physical address\n",
    "print(i for i in dir(name) if \"__\" not in i) # method and attributes"
   ]
  },
  {
   "cell_type": "code",
   "execution_count": null,
   "metadata": {},
   "outputs": [],
   "source": [
    "#Incompatible types in assignment (expression has type \"int\", variable has type \"str\")\n",
    "print(\"Hello world\")\n",
    "name: str = \"Sultan Ali\"\n",
    "name = 700 # Error message: Incompatible types in assignment (expression has type \"int\", variable has type \"str\")\n",
    "print(name)\n",
    "print(type(name))\n",
    "print(id(name)) "
   ]
  },
  {
   "cell_type": "code",
   "execution_count": 3,
   "metadata": {},
   "outputs": [
    {
     "name": "stdout",
     "output_type": "stream",
     "text": [
      "123\n",
      "<class 'int'>\n",
      "140711528519928\n",
      "<generator object <genexpr> at 0x000001CF4D311560>\n"
     ]
    }
   ],
   "source": [
    "name: int = 123\n",
    "print(name)\n",
    "print(type(name)) #type\n",
    "print(id(name)) #physical address\n",
    "print(i for i in dir(name) if \"__\" not in i) # method and attributes"
   ]
  },
  {
   "cell_type": "code",
   "execution_count": 4,
   "metadata": {},
   "outputs": [
    {
     "name": "stdout",
     "output_type": "stream",
     "text": [
      "True\n",
      "<class 'bool'>\n",
      "140711527722064\n",
      "<generator object <genexpr> at 0x000001CF4D3118A0>\n"
     ]
    }
   ],
   "source": [
    "name: bool = True\n",
    "print(name)\n",
    "print(type(name)) #type\n",
    "print(id(name)) #physical address\n",
    "print(i for i in dir(name) if \"__\" not in i) # method and attributes"
   ]
  },
  {
   "cell_type": "code",
   "execution_count": null,
   "metadata": {},
   "outputs": [],
   "source": [
    "name: float = 52.36\n",
    "print(name)\n",
    "print(type(name)) #type\n",
    "print(id(name)) #physical address\n",
    "print(i for i in dir(name) if \"__\" not in i) # method and attributes"
   ]
  },
  {
   "cell_type": "code",
   "execution_count": 7,
   "metadata": {},
   "outputs": [
    {
     "name": "stdout",
     "output_type": "stream",
     "text": [
      "(True, 1234, 53.24, 'Pakistan')\n",
      "<class 'tuple'>\n",
      "1989864934992\n",
      "<generator object <genexpr> at 0x000001CF4D311E50>\n"
     ]
    }
   ],
   "source": [
    "name: tuple[bool, int, float, str] = (True, 1234, 53.24, \"Pakistan\")\n",
    "print(name)\n",
    "print(type(name)) #type\n",
    "print(id(name)) #physical address\n",
    "print(i for i in dir(name) if \"__\" not in i) # method and attributes\n"
   ]
  },
  {
   "cell_type": "code",
   "execution_count": 6,
   "metadata": {},
   "outputs": [
    {
     "name": "stdout",
     "output_type": "stream",
     "text": [
      "['Sultan Ali', 'Zia', 'Naveed']\n",
      "<class 'list'>\n",
      "1989865049600\n",
      "<generator object <genexpr> at 0x000001CF4D311FF0>\n"
     ]
    }
   ],
   "source": [
    "name: list[str] = [\"Sultan Ali\" , \"Zia\", \"Naveed\"]\n",
    "print(name)\n",
    "print(type(name)) #type\n",
    "print(id(name)) #physical address\n",
    "print(i for i in dir(name) if \"__\" not in i) # method and attributes"
   ]
  }
 ],
 "metadata": {
  "kernelspec": {
   "display_name": "Python 3",
   "language": "python",
   "name": "python3"
  },
  "language_info": {
   "codemirror_mode": {
    "name": "ipython",
    "version": 3
   },
   "file_extension": ".py",
   "mimetype": "text/x-python",
   "name": "python",
   "nbconvert_exporter": "python",
   "pygments_lexer": "ipython3",
   "version": "3.12.2"
  }
 },
 "nbformat": 4,
 "nbformat_minor": 2
}
