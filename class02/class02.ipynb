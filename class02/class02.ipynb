{
 "cells": [
  {
   "cell_type": "code",
   "execution_count": 43,
   "metadata": {},
   "outputs": [
    {
     "name": "stdout",
     "output_type": "stream",
     "text": [
      "name\n"
     ]
    }
   ],
   "source": [
    "print(\"name\")"
   ]
  },
  {
   "cell_type": "code",
   "execution_count": 44,
   "metadata": {},
   "outputs": [
    {
     "name": "stdout",
     "output_type": "stream",
     "text": [
      "SulTan ALi\n"
     ]
    }
   ],
   "source": [
    "print(name)"
   ]
  },
  {
   "cell_type": "code",
   "execution_count": 45,
   "metadata": {},
   "outputs": [
    {
     "name": "stdout",
     "output_type": "stream",
     "text": [
      "Sultan Ali\n"
     ]
    }
   ],
   "source": [
    "name : str = \"Sultan Ali\"\n",
    "print(name)"
   ]
  },
  {
   "cell_type": "markdown",
   "metadata": {},
   "source": [
    "#String Data types in python"
   ]
  },
  {
   "cell_type": "code",
   "execution_count": 46,
   "metadata": {},
   "outputs": [
    {
     "name": "stdout",
     "output_type": "stream",
     "text": [
      "<class 'str'>\n",
      "Sultan Ali\n"
     ]
    }
   ],
   "source": [
    "#boundries\n",
    "#'string text', \"string text\", \"\"\"string text\"\"\", '''string text''', '''string text'''\n",
    "name : str = \"Sultan Ali\"\n",
    "print(type(name))\n",
    "print(name)"
   ]
  },
  {
   "cell_type": "code",
   "execution_count": 47,
   "metadata": {},
   "outputs": [
    {
     "ename": "SyntaxError",
     "evalue": "unterminated string literal (detected at line 1) (3450456047.py, line 1)",
     "output_type": "error",
     "traceback": [
      "\u001b[1;36m  Cell \u001b[1;32mIn[47], line 1\u001b[1;36m\u001b[0m\n\u001b[1;33m    message : str = 'ICMAP Student card\\n father's name'\u001b[0m\n\u001b[1;37m                                                       ^\u001b[0m\n\u001b[1;31mSyntaxError\u001b[0m\u001b[1;31m:\u001b[0m unterminated string literal (detected at line 1)\n"
     ]
    }
   ],
   "source": [
    "message : str = 'ICMAP Student card\\n father's name'"
   ]
  },
  {
   "cell_type": "code",
   "execution_count": null,
   "metadata": {},
   "outputs": [
    {
     "name": "stdout",
     "output_type": "stream",
     "text": [
      "ICMAP Student card \n",
      "Father's name:\n"
     ]
    }
   ],
   "source": [
    "message : str = \"ICMAP Student card \\nFather's name:\"\n",
    "print(message)"
   ]
  },
  {
   "cell_type": "code",
   "execution_count": null,
   "metadata": {},
   "outputs": [
    {
     "name": "stdout",
     "output_type": "stream",
     "text": [
      "ICMAP \"Student card\" \n",
      "Father name\n"
     ]
    }
   ],
   "source": [
    "message : str = 'ICMAP \"Student card\" \\nFather name'\n",
    "print(message)"
   ]
  },
  {
   "cell_type": "code",
   "execution_count": null,
   "metadata": {},
   "outputs": [
    {
     "name": "stdout",
     "output_type": "stream",
     "text": [
      "ICMAP Student card \n",
      " Father's name\n"
     ]
    }
   ],
   "source": [
    "# convert any special character into simple character, place \\ before character\n",
    "message : str = 'ICMAP Student card \\n Father\\'s name'\n",
    "print(message)"
   ]
  },
  {
   "cell_type": "code",
   "execution_count": null,
   "metadata": {},
   "outputs": [
    {
     "ename": "TypeError",
     "evalue": "can only concatenate str (not \"int\") to str",
     "output_type": "error",
     "traceback": [
      "\u001b[1;31m---------------------------------------------------------------------------\u001b[0m",
      "\u001b[1;31mTypeError\u001b[0m                                 Traceback (most recent call last)",
      "Cell \u001b[1;32mIn[23], line 7\u001b[0m\n\u001b[0;32m      5\u001b[0m education : \u001b[38;5;28mstr\u001b[39m \u001b[38;5;241m=\u001b[39m \u001b[38;5;124m'\u001b[39m\u001b[38;5;124mCMA\u001b[39m\u001b[38;5;124m'\u001b[39m\n\u001b[0;32m      6\u001b[0m age : \u001b[38;5;28mint\u001b[39m \u001b[38;5;241m=\u001b[39m \u001b[38;5;241m26\u001b[39m\n\u001b[1;32m----> 7\u001b[0m card : \u001b[38;5;28mstr\u001b[39m \u001b[38;5;241m=\u001b[39m \u001b[38;5;124;43m\"\u001b[39;49m\u001b[38;5;124;43mICMAP Student Card\u001b[39;49m\u001b[38;5;130;43;01m\\n\u001b[39;49;00m\u001b[38;5;124;43mStudent Name: \u001b[39;49m\u001b[38;5;124;43m\"\u001b[39;49m\u001b[43m \u001b[49m\u001b[38;5;241;43m+\u001b[39;49m\u001b[43m \u001b[49m\u001b[43mname\u001b[49m\u001b[43m \u001b[49m\u001b[38;5;241;43m+\u001b[39;49m\u001b[43m \u001b[49m\u001b[38;5;124;43m\"\u001b[39;49m\u001b[38;5;130;43;01m\\n\u001b[39;49;00m\u001b[38;5;124;43mAge: \u001b[39;49m\u001b[38;5;124;43m\"\u001b[39;49m\u001b[43m \u001b[49m\u001b[38;5;241;43m+\u001b[39;49m\u001b[43m \u001b[49m\u001b[43mage\u001b[49m \n\u001b[0;32m      8\u001b[0m \u001b[38;5;28mprint\u001b[39m(card)\n",
      "\u001b[1;31mTypeError\u001b[0m: can only concatenate str (not \"int\") to str"
     ]
    }
   ],
   "source": [
    "#boundries \n",
    "#'string text', \"string text\", \"\"\"string text\"\"\", '''string text''', '''string text'''\n",
    "name : str = 'Sultan Ali'\n",
    "father_name : str = 'Mubarak Ali'\n",
    "education : str = 'CMA'\n",
    "age : int = 26\n",
    "card : str = \"ICMAP Student Card\\nStudent Name: \" + name + \"\\nAge: \" + age \n",
    "print(card)"
   ]
  },
  {
   "cell_type": "code",
   "execution_count": null,
   "metadata": {},
   "outputs": [
    {
     "data": {
      "text/plain": [
       "'a98'"
      ]
     },
     "execution_count": 15,
     "metadata": {},
     "output_type": "execute_result"
    }
   ],
   "source": [
    "\"a\" + str(98)"
   ]
  },
  {
   "cell_type": "code",
   "execution_count": null,
   "metadata": {},
   "outputs": [
    {
     "name": "stdout",
     "output_type": "stream",
     "text": [
      "ICMAP Student Card\n",
      "Student Name: Sultan Ali\n",
      "Education: CMA\n",
      "Age: 26\n"
     ]
    }
   ],
   "source": [
    "#boundries \n",
    "#'string text', \"string text\", \"\"\"string text\"\"\", '''string text''', '''string text'''\n",
    "name : str = 'Sultan Ali'\n",
    "father_name : str = 'Mubarak Ali'\n",
    "education : str = 'CMA'\n",
    "age : int = 26\n",
    "\n",
    "card : str = \"ICMAP Student Card\\nStudent Name: \" + name + \"\\nEducation: \" + education + \"\\nAge: \" + str(age)\n",
    "print(card)"
   ]
  },
  {
   "cell_type": "code",
   "execution_count": null,
   "metadata": {},
   "outputs": [
    {
     "name": "stdout",
     "output_type": "stream",
     "text": [
      "35\n"
     ]
    }
   ],
   "source": [
    "# \\ Line continuation\n",
    "print(24 + \\\n",
    "    7 + \\\n",
    "    4  )"
   ]
  },
  {
   "cell_type": "markdown",
   "metadata": {},
   "source": [
    "Define multiline string ''' ''', \"\"\" \"\"\""
   ]
  },
  {
   "cell_type": "code",
   "execution_count": null,
   "metadata": {},
   "outputs": [
    {
     "name": "stdout",
     "output_type": "stream",
     "text": [
      " \n",
      "ICMAP Student card\n",
      "Student Name:...... \n",
      "Father Name: ........\n",
      "Education: .......\n",
      "\n",
      "\n"
     ]
    }
   ],
   "source": [
    "name : str = 'Sultan Ali'\n",
    "father_name : str = 'Mubarak Ali'\n",
    "education : str = 'CMA'\n",
    "card : str = \"\"\" \n",
    "ICMAP Student card\n",
    "Student Name:...... \n",
    "Father Name: ........\n",
    "Education: .......\n",
    "\n",
    "\"\"\"\n",
    "print(card)"
   ]
  },
  {
   "cell_type": "markdown",
   "metadata": {},
   "source": [
    "#F string"
   ]
  },
  {
   "cell_type": "code",
   "execution_count": null,
   "metadata": {},
   "outputs": [
    {
     "name": "stdout",
     "output_type": "stream",
     "text": [
      "\n",
      "ICMAP Student card\n",
      "Student Name: Sultan Ali\n",
      "Father Name: Mubarak Ali\n",
      "Education: CMA\n",
      "Contact No: 923029210252\n",
      "\n"
     ]
    }
   ],
   "source": [
    "name : str = 'Sultan Ali'\n",
    "father_name : str = 'Mubarak Ali'\n",
    "education : str = 'CMA' \n",
    "age : int = 26\n",
    "contact_number : int = 923029210252\n",
    "\n",
    "card : str = f\"\"\"\n",
    "ICMAP Student card\n",
    "Student Name: {name}\n",
    "Father Name: {father_name}\n",
    "Education: {education}\n",
    "Contact No: {contact_number}\n",
    "\"\"\"\n",
    "print(card)"
   ]
  },
  {
   "cell_type": "code",
   "execution_count": null,
   "metadata": {},
   "outputs": [
    {
     "name": "stdout",
     "output_type": "stream",
     "text": [
      " \n",
      "Student card\n",
      "Student Name: Sultan Ali\n",
      "Father Name: Mubarak Ali\n",
      "Education: Generative AI Engineer and Blockchain Developer\n",
      "\n"
     ]
    }
   ],
   "source": [
    "name : str = 'Sultan Ali'\n",
    "father_name : str = 'Mubarak Ali'\n",
    "education : str = 'Generative AI Engineer and Blockchain Developer'\n",
    "card : str = f''' \n",
    "Student card\n",
    "Student Name: {name}\n",
    "Father Name: {father_name}\n",
    "Education: {education}\n",
    "'''\n",
    "print(card)\n"
   ]
  },
  {
   "cell_type": "markdown",
   "metadata": {},
   "source": [
    "#Back ticks don't work in python "
   ]
  },
  {
   "cell_type": "code",
   "execution_count": null,
   "metadata": {},
   "outputs": [
    {
     "name": "stdout",
     "output_type": "stream",
     "text": [
      " \n",
      "\n",
      "Student card\n",
      "Student Name: Sulan Ali\n",
      "Father Name: Mubarak Ali\n",
      "Education: Generative AI Engineer and Blockchain Developer\n",
      "Total: 191\n",
      "\n"
     ]
    }
   ],
   "source": [
    "name : str = 'Sulan Ali'\n",
    "father_name : str = 'Mubarak Ali'\n",
    "education : str = 'Generative AI Engineer and Blockchain Developer'\n",
    "card : str = f\"\"\" \n",
    "\n",
    "Student card\n",
    "Student Name: {name}\n",
    "Father Name: {father_name}\n",
    "Education: {education}\n",
    "Total: {36 + 53+ 79+ 23}\n",
    "\"\"\"\n",
    "print(card)"
   ]
  },
  {
   "cell_type": "markdown",
   "metadata": {},
   "source": [
    "##F string and Jinja style"
   ]
  },
  {
   "cell_type": "code",
   "execution_count": null,
   "metadata": {},
   "outputs": [
    {
     "data": {
      "text/plain": [
       "'\\nstudent name Sulan Ali\\n'"
      ]
     },
     "execution_count": 33,
     "metadata": {},
     "output_type": "execute_result"
    }
   ],
   "source": [
    "f\"\"\"\n",
    "student name {name}\n",
    "\"\"\""
   ]
  },
  {
   "cell_type": "code",
   "execution_count": null,
   "metadata": {},
   "outputs": [
    {
     "data": {
      "text/plain": [
       "' \\nstudent name {{name}}\\n'"
      ]
     },
     "execution_count": 34,
     "metadata": {},
     "output_type": "execute_result"
    }
   ],
   "source": [
    "#Jinja style\n",
    "#this also work in html format\n",
    "\"\"\" \n",
    "student name {{name}}\n",
    "\"\"\"\n"
   ]
  },
  {
   "cell_type": "code",
   "execution_count": null,
   "metadata": {},
   "outputs": [
    {
     "name": "stdout",
     "output_type": "stream",
     "text": [
      "\n",
      "ICMAP Student card\n",
      "Student Name: Sultan Ali\n",
      "Father Name: Mubarak Ali\n",
      "Age: 26\n",
      "\n"
     ]
    }
   ],
   "source": [
    "name : str = 'Sultan Ali'\n",
    "father_name : str = 'Mubarak Ali'\n",
    "age : int = 26\n",
    "card : str = f\"\"\"\n",
    "ICMAP Student card\n",
    "Student Name: %s\n",
    "Father Name: %s\n",
    "Age: %d\n",
    "\"\"\"% (name,father_name, age)\n",
    "print(card)"
   ]
  },
  {
   "cell_type": "code",
   "execution_count": null,
   "metadata": {},
   "outputs": [
    {
     "data": {
      "text/plain": [
       "['capitalize',\n",
       " 'casefold',\n",
       " 'center',\n",
       " 'count',\n",
       " 'encode',\n",
       " 'endswith',\n",
       " 'expandtabs',\n",
       " 'find',\n",
       " 'format',\n",
       " 'format_map',\n",
       " 'index',\n",
       " 'isalnum',\n",
       " 'isalpha',\n",
       " 'isascii',\n",
       " 'isdecimal',\n",
       " 'isdigit',\n",
       " 'isidentifier',\n",
       " 'islower',\n",
       " 'isnumeric',\n",
       " 'isprintable',\n",
       " 'isspace',\n",
       " 'istitle',\n",
       " 'isupper',\n",
       " 'join',\n",
       " 'ljust',\n",
       " 'lower',\n",
       " 'lstrip',\n",
       " 'maketrans',\n",
       " 'partition',\n",
       " 'removeprefix',\n",
       " 'removesuffix',\n",
       " 'replace',\n",
       " 'rfind',\n",
       " 'rindex',\n",
       " 'rjust',\n",
       " 'rpartition',\n",
       " 'rsplit',\n",
       " 'rstrip',\n",
       " 'split',\n",
       " 'splitlines',\n",
       " 'startswith',\n",
       " 'strip',\n",
       " 'swapcase',\n",
       " 'title',\n",
       " 'translate',\n",
       " 'upper',\n",
       " 'zfill']"
      ]
     },
     "execution_count": 39,
     "metadata": {},
     "output_type": "execute_result"
    }
   ],
   "source": [
    "#list name in str class\n",
    "[i for i in dir(str) if \"__\" not in i]"
   ]
  },
  {
   "cell_type": "code",
   "execution_count": 41,
   "metadata": {},
   "outputs": [
    {
     "data": {
      "text/plain": [
       "'integer value a = 41 and value b = 52'"
      ]
     },
     "execution_count": 41,
     "metadata": {},
     "output_type": "execute_result"
    }
   ],
   "source": [
    "a = 41\n",
    "b = 52\n",
    "# {} place holder\n",
    "#                     0                1          0,1\n",
    "\"integer value a = {} and value b = {}\".format(a,b)"
   ]
  },
  {
   "cell_type": "code",
   "execution_count": 49,
   "metadata": {},
   "outputs": [
    {
     "name": "stdout",
     "output_type": "stream",
     "text": [
      "Sultan ali\n",
      "sultan ali\n"
     ]
    }
   ],
   "source": [
    "name : str = 'SulTan ALi'\n",
    "print(name.capitalize())\n",
    "print (name.lower())"
   ]
  },
  {
   "cell_type": "code",
   "execution_count": 51,
   "metadata": {},
   "outputs": [
    {
     "name": "stdout",
     "output_type": "stream",
     "text": [
      " \n",
      "ICMAP Student Card\n",
      "\n",
      "Student Name: 26\n",
      "\n",
      "Father Name: Muarak Ali\n",
      "\n",
      "Age: Sultan Ali\n",
      "\n"
     ]
    }
   ],
   "source": [
    "#if you change the position of the value\n",
    "name : str = 'Sultan Ali'\n",
    "father_name : str = 'Muarak Ali'\n",
    "age : int = 26\n",
    "card : str = \"\"\" \n",
    "ICMAP Student Card\n",
    "\n",
    "Student Name: {}\n",
    "\n",
    "Father Name: {}\n",
    "\n",
    "Age: {}\n",
    "\"\"\".format(age, father_name, name)\n",
    "print(card)"
   ]
  },
  {
   "cell_type": "code",
   "execution_count": 52,
   "metadata": {},
   "outputs": [
    {
     "name": "stdout",
     "output_type": "stream",
     "text": [
      " \n",
      "ICMAP Student Card\n",
      "\n",
      "Student Name: Sultan Ali\n",
      "\n",
      "Father Name: Muarak Ali\n",
      "\n",
      "Age: 26\n",
      "\n"
     ]
    }
   ],
   "source": [
    "#if you use indexing\n",
    "name : str = 'Sultan Ali'\n",
    "father_name : str = 'Muarak Ali'\n",
    "age : int = 26\n",
    "card : str = \"\"\" \n",
    "ICMAP Student Card\n",
    "\n",
    "Student Name: {2}\n",
    "\n",
    "Father Name: {0}\n",
    "\n",
    "Age: {1}\n",
    "\"\"\".format(father_name, age, name)\n",
    "#                0       1     2 \n",
    "print(card)"
   ]
  },
  {
   "cell_type": "code",
   "execution_count": 55,
   "metadata": {},
   "outputs": [
    {
     "name": "stdout",
     "output_type": "stream",
     "text": [
      " \n",
      "ICMAP Student Card\n",
      "\n",
      "Student Name: Sultan Ali\n",
      "\n",
      "Father Name: Muarak Ali\n",
      "\n",
      "Age: 26\n",
      "\n"
     ]
    }
   ],
   "source": [
    "#if you use your own indexing\n",
    "name : str = 'Sultan Ali'\n",
    "father_name : str = 'Muarak Ali'\n",
    "age : int = 26\n",
    "card : str = \"\"\" \n",
    "ICMAP Student Card\n",
    "\n",
    "Student Name: {a}\n",
    "\n",
    "Father Name: {b}\n",
    "\n",
    "Age: {c}\n",
    "\"\"\".format(a = name, b = father_name, c = age) \n",
    "print(card)"
   ]
  },
  {
   "cell_type": "markdown",
   "metadata": {},
   "source": [
    "#Recommended f string format"
   ]
  },
  {
   "cell_type": "code",
   "execution_count": 61,
   "metadata": {},
   "outputs": [
    {
     "name": "stdout",
     "output_type": "stream",
     "text": [
      " \n",
      "ICMAP Student Card\n",
      "#you can \n",
      "Student Name: Sultan Ali\n",
      "Father Name: Mubarak Ali\n",
      "Age: 26\n",
      "Contact Number: 923029210252\n",
      "\n"
     ]
    }
   ],
   "source": [
    "name : str = 'Sultan Ali'\n",
    "father_name : str = 'Mubarak Ali'\n",
    "education : str = 'CMA'\n",
    "age : int = 26\n",
    "contact_number : int = 923029210252\n",
    "card : str = f\"\"\" \n",
    "ICMAP Student Card\n",
    "Student Name: {name}\n",
    "Father Name: {father_name}\n",
    "Age: {age}\n",
    "Contact Number: {contact_number}\n",
    "\"\"\"\n",
    "print(card)"
   ]
  },
  {
   "cell_type": "code",
   "execution_count": 62,
   "metadata": {},
   "outputs": [
    {
     "name": "stdout",
     "output_type": "stream",
     "text": [
      "My Name is Sultan Ali\n",
      "94\n"
     ]
    }
   ],
   "source": [
    "#just in case to check student code \n",
    "student_code : str = \"\"\"\n",
    "print(\"My Name is Sultan Ali\")\n",
    "a : int = 43\n",
    "b : int = 51\n",
    "print(a + b)\n",
    "\"\"\"\n",
    "exec(student_code)\n"
   ]
  },
  {
   "cell_type": "markdown",
   "metadata": {},
   "source": [
    "#Exploring Sring methods and attributes\n",
    "pre defined global function we have used \n",
    "* print \n",
    "* type\n",
    "* id\n",
    "* dir\n",
    "* len"
   ]
  },
  {
   "cell_type": "code",
   "execution_count": 64,
   "metadata": {},
   "outputs": [
    {
     "name": "stdout",
     "output_type": "stream",
     "text": [
      "['capitalize', 'casefold', 'center', 'count', 'encode', 'endswith', 'expandtabs', 'find', 'format', 'format_map', 'index', 'isalnum', 'isalpha', 'isascii', 'isdecimal', 'isdigit', 'isidentifier', 'islower', 'isnumeric', 'isprintable', 'isspace', 'istitle', 'isupper', 'join', 'ljust', 'lower', 'lstrip', 'maketrans', 'partition', 'removeprefix', 'removesuffix', 'replace', 'rfind', 'rindex', 'rjust', 'rpartition', 'rsplit', 'rstrip', 'split', 'splitlines', 'startswith', 'strip', 'swapcase', 'title', 'translate', 'upper', 'zfill']\n",
      "47\n"
     ]
    }
   ],
   "source": [
    "a: list[str] = [i for i in dir(str) if \"__\" not in i]\n",
    "print(a)\n",
    "print(len(a))#checking length"
   ]
  },
  {
   "cell_type": "code",
   "execution_count": 66,
   "metadata": {},
   "outputs": [
    {
     "name": "stdout",
     "output_type": "stream",
     "text": [
      "Sultan ali\n"
     ]
    }
   ],
   "source": [
    "name : str = 'SuLTan ALi'\n",
    "\n",
    "print(name.capitalize())"
   ]
  },
  {
   "cell_type": "code",
   "execution_count": 67,
   "metadata": {},
   "outputs": [
    {
     "name": "stdout",
     "output_type": "stream",
     "text": [
      "sultan ali\n"
     ]
    }
   ],
   "source": [
    "name : str = 'SuLTan ALi'\n",
    "\n",
    "print(name.lower())"
   ]
  },
  {
   "cell_type": "code",
   "execution_count": 68,
   "metadata": {},
   "outputs": [
    {
     "name": "stdout",
     "output_type": "stream",
     "text": [
      "SULTAN ALI\n"
     ]
    }
   ],
   "source": [
    "name : str = 'SuLTan ALi'\n",
    "\n",
    "print(name.upper())"
   ]
  },
  {
   "cell_type": "code",
   "execution_count": 69,
   "metadata": {},
   "outputs": [
    {
     "name": "stdout",
     "output_type": "stream",
     "text": [
      "sUltAN alI\n"
     ]
    }
   ],
   "source": [
    "name : str = 'SuLTan ALi'\n",
    "\n",
    "print(name.swapcase())"
   ]
  },
  {
   "cell_type": "code",
   "execution_count": 73,
   "metadata": {},
   "outputs": [
    {
     "name": "stdout",
     "output_type": "stream",
     "text": [
      "False\n"
     ]
    }
   ],
   "source": [
    "name : str = 'SuLTan ALi'\n",
    "\n",
    "print(name.isalnum())"
   ]
  },
  {
   "cell_type": "code",
   "execution_count": 74,
   "metadata": {},
   "outputs": [
    {
     "name": "stdout",
     "output_type": "stream",
     "text": [
      "False\n"
     ]
    }
   ],
   "source": [
    "name : str = 'SuLTan ALi'\n",
    "\n",
    "print(name.isalpha())"
   ]
  },
  {
   "cell_type": "code",
   "execution_count": 76,
   "metadata": {},
   "outputs": [
    {
     "name": "stdout",
     "output_type": "stream",
     "text": [
      "sultan ali\n"
     ]
    }
   ],
   "source": [
    "name : str = 'SuLTan ALi'\n",
    "print(name.casefold())"
   ]
  },
  {
   "cell_type": "code",
   "execution_count": 78,
   "metadata": {},
   "outputs": [
    {
     "data": {
      "text/plain": [
       "'SuLTan ALi         '"
      ]
     },
     "metadata": {},
     "output_type": "display_data"
    }
   ],
   "source": [
    "name : str = '      SuLTan ALi         '\n",
    "display(name.lstrip())"
   ]
  },
  {
   "cell_type": "code",
   "execution_count": 79,
   "metadata": {},
   "outputs": [
    {
     "data": {
      "text/plain": [
       "'    Sultan Ali'"
      ]
     },
     "metadata": {},
     "output_type": "display_data"
    }
   ],
   "source": [
    "name : str = '    Sultan Ali    '\n",
    "display(name.rstrip())"
   ]
  },
  {
   "cell_type": "code",
   "execution_count": 81,
   "metadata": {},
   "outputs": [
    {
     "data": {
      "text/plain": [
       "'   Sultan Ali   '"
      ]
     },
     "metadata": {},
     "output_type": "display_data"
    },
    {
     "data": {
      "text/plain": [
       "'Sultan Ali'"
      ]
     },
     "metadata": {},
     "output_type": "display_data"
    }
   ],
   "source": [
    "name : str = '   Sultan Ali   '\n",
    "display(name)\n",
    "display(name.strip())"
   ]
  },
  {
   "cell_type": "code",
   "execution_count": 85,
   "metadata": {},
   "outputs": [
    {
     "data": {
      "text/plain": [
       "'   Sultan      Ali   '"
      ]
     },
     "metadata": {},
     "output_type": "display_data"
    },
    {
     "data": {
      "text/plain": [
       "'Sultan Ali'"
      ]
     },
     "metadata": {},
     "output_type": "display_data"
    }
   ],
   "source": [
    "import re\n",
    "name : str = '   Sultan      Ali   '\n",
    "display(name)\n",
    "name1 : str = re.sub(' {2,100}',' ', name).strip()\n",
    "display(name1)"
   ]
  },
  {
   "cell_type": "code",
   "execution_count": 86,
   "metadata": {},
   "outputs": [
    {
     "name": "stdout",
     "output_type": "stream",
     "text": [
      "Name:\t\t Sultan Ali\n"
     ]
    }
   ],
   "source": [
    "print(\"Name:\\t\\t Sultan Ali\")"
   ]
  },
  {
   "cell_type": "code",
   "execution_count": 87,
   "metadata": {},
   "outputs": [
    {
     "name": "stdout",
     "output_type": "stream",
     "text": [
      "Name:\n",
      "Sultan Ali\n"
     ]
    }
   ],
   "source": [
    "print(\"Name:\\nSultan Ali\")"
   ]
  },
  {
   "cell_type": "code",
   "execution_count": 88,
   "metadata": {},
   "outputs": [
    {
     "name": "stdout",
     "output_type": "stream",
     "text": [
      "NameSultan Ali\n"
     ]
    }
   ],
   "source": [
    "print(\"Name:\\bSultan Ali\")#backspace"
   ]
  }
 ],
 "metadata": {
  "kernelspec": {
   "display_name": "Python 3",
   "language": "python",
   "name": "python3"
  },
  "language_info": {
   "codemirror_mode": {
    "name": "ipython",
    "version": 3
   },
   "file_extension": ".py",
   "mimetype": "text/x-python",
   "name": "python",
   "nbconvert_exporter": "python",
   "pygments_lexer": "ipython3",
   "version": "3.12.2"
  }
 },
 "nbformat": 4,
 "nbformat_minor": 2
}
